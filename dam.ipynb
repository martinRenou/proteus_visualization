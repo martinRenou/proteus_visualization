{
 "cells": [
  {
   "cell_type": "code",
   "execution_count": null,
   "metadata": {},
   "outputs": [],
   "source": [
    "from hdf5_loader import extract_arrays_metadata, extract_array\n",
    "\n",
    "import numpy as np"
   ]
  },
  {
   "cell_type": "code",
   "execution_count": null,
   "metadata": {},
   "outputs": [],
   "source": [
    "arrays_metadata = extract_arrays_metadata('dam_dataset_long_big/dam3Bumps.h5')\n",
    "\n",
    "mem_vertices = extract_array(arrays_metadata, 'nodesSpatial_Domain0')\n",
    "vertices = np.array(mem_vertices[:, 0:2])\n",
    "\n",
    "indices = extract_array(arrays_metadata, 'elementsSpatial_Domain0')\n",
    "\n",
    "h = extract_array(arrays_metadata, 'h_t0')\n",
    "bathymetry = extract_array(arrays_metadata, 'bathymetry0_t0')"
   ]
  },
  {
   "cell_type": "code",
   "execution_count": null,
   "metadata": {},
   "outputs": [],
   "source": [
    "from ipywidgets import Image"
   ]
  },
  {
   "cell_type": "code",
   "execution_count": null,
   "metadata": {},
   "outputs": [],
   "source": [
    "texture = Image.from_file('tex.jpeg')"
   ]
  },
  {
   "cell_type": "code",
   "execution_count": null,
   "metadata": {},
   "outputs": [],
   "source": [
    "texture"
   ]
  },
  {
   "cell_type": "code",
   "execution_count": null,
   "metadata": {},
   "outputs": [],
   "source": [
    "from ipywidgets import Play, IntSlider, HBox, link\n",
    "from ipygany import Scene, Data, Component, PolyMesh, Water, UnderWater, Data, Component, Threshold, Warp"
   ]
  },
  {
   "cell_type": "code",
   "execution_count": null,
   "metadata": {},
   "outputs": [],
   "source": [
    "warp_value = 3"
   ]
  },
  {
   "cell_type": "code",
   "execution_count": null,
   "metadata": {},
   "outputs": [],
   "source": [
    "h = extract_array(arrays_metadata, 'h_t0')\n",
    "\n",
    "h_component = Component(name='h', array=h)\n",
    "\n",
    "z_water = h + bathymetry\n",
    "\n",
    "water_mesh = PolyMesh(\n",
    "    vertices=np.append(vertices, z_water.reshape((z_water.shape[0], 1)) * warp_value, axis=1),\n",
    "    triangle_indices=indices,\n",
    "    data=[Data(name='h', components=[h_component])]\n",
    ")\n",
    "\n",
    "actual_water = Threshold(water_mesh, input='h', min=0.00000001, max=1000)\n",
    "\n",
    "floor = PolyMesh(\n",
    "    vertices=np.append(vertices, bathymetry.reshape((bathymetry.shape[0], 1)) * warp_value, axis=1),\n",
    "    triangle_indices=indices,\n",
    "    data=[Data(name='underwater', components=[h_component])]\n",
    ")\n",
    "\n",
    "water = Water(\n",
    "    actual_water, \n",
    "    under_water_blocks=(UnderWater(floor), ),\n",
    "    caustics_enabled=True,\n",
    ")\n",
    "\n",
    "scene = Scene((water, ))\n",
    "\n",
    "def update_step(change):\n",
    "    i = change['new']\n",
    "    \n",
    "    h = extract_array(arrays_metadata, 'h_t{}'.format(i))\n",
    "\n",
    "    h_component.array = h\n",
    "\n",
    "    z_water = h + bathymetry\n",
    "\n",
    "    water_mesh.vertices = np.append(vertices, z_water.reshape((z_water.shape[0], 1)) * warp_value, axis=1)\n",
    "\n",
    "play = Play(description='Step:', min=0, max=200, value=0, interval=50)\n",
    "play.observe(update_step, names=['value'])\n",
    "\n",
    "progress = IntSlider(value=0, step=1, min=0, max=200)\n",
    "link((progress, 'value'), (play, 'value'))\n",
    "\n",
    "display(HBox((play, progress)))\n",
    "\n",
    "scene"
   ]
  },
  {
   "cell_type": "code",
   "execution_count": null,
   "metadata": {},
   "outputs": [],
   "source": [
    "scene.background_color = 'aliceblue'"
   ]
  },
  {
   "cell_type": "code",
   "execution_count": null,
   "metadata": {},
   "outputs": [],
   "source": [
    "water.under_water_blocks[0].default_color = 'rgb(237, 201, 175)'"
   ]
  },
  {
   "cell_type": "code",
   "execution_count": null,
   "metadata": {},
   "outputs": [],
   "source": [
    "water.under_water_blocks[0].texture = texture"
   ]
  },
  {
   "cell_type": "code",
   "execution_count": null,
   "metadata": {},
   "outputs": [],
   "source": [
    "water.under_water_blocks[0].texture = None"
   ]
  },
  {
   "cell_type": "code",
   "execution_count": null,
   "metadata": {},
   "outputs": [],
   "source": [
    "water.caustics_factor = 0.1"
   ]
  },
  {
   "cell_type": "code",
   "execution_count": null,
   "metadata": {},
   "outputs": [],
   "source": [
    "from ipywebrtc import VideoRecorder, WidgetStream"
   ]
  },
  {
   "cell_type": "code",
   "execution_count": null,
   "metadata": {},
   "outputs": [],
   "source": [
    "widget_stream = WidgetStream(widget=scene)\n",
    "widget_stream"
   ]
  },
  {
   "cell_type": "code",
   "execution_count": null,
   "metadata": {},
   "outputs": [],
   "source": [
    "image_recorder = VideoRecorder(stream=widget_stream)\n",
    "image_recorder"
   ]
  }
 ],
 "metadata": {
  "kernelspec": {
   "display_name": "Python 3",
   "language": "python",
   "name": "python3"
  },
  "language_info": {
   "codemirror_mode": {
    "name": "ipython",
    "version": 3
   },
   "file_extension": ".py",
   "mimetype": "text/x-python",
   "name": "python",
   "nbconvert_exporter": "python",
   "pygments_lexer": "ipython3",
   "version": "3.8.3"
  }
 },
 "nbformat": 4,
 "nbformat_minor": 4
}
