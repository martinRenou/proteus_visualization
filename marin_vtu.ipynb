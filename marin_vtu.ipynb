{
 "cells": [
  {
   "cell_type": "markdown",
   "metadata": {},
   "source": [
    "# Loading meshes from `.vtu` files + IsoColor effect on the `pressure` data"
   ]
  },
  {
   "cell_type": "code",
   "execution_count": null,
   "metadata": {},
   "outputs": [],
   "source": [
    "from ipywidgets import Play, IntProgress, link, HBox\n",
    "\n",
    "from ipygany import Scene, TetraMesh, IsoColor, Threshold"
   ]
  },
  {
   "cell_type": "code",
   "execution_count": null,
   "metadata": {},
   "outputs": [],
   "source": [
    "mesh = TetraMesh.from_vtk('proteus_vtu/proteus_1.vtu')\n",
    "\n",
    "def load_step(change):\n",
    "    mesh.reload('proteus_vtu/proteus_{}.vtu'.format(change['new']))\n",
    "\n",
    "play = Play(description='Step:', min=0, max=76, value=0, interval=50)\n",
    "play.observe(load_step, names=['value'])\n",
    "\n",
    "progress = IntProgress(value=0, step=1, min=0, max=76)\n",
    "link((progress, 'value'), (play, 'value'))\n",
    "\n",
    "color = IsoColor(mesh, input='p', min=0, max=2.5e3)\n",
    "threshold = Threshold(color, input='phi', min=-100, max=0, dynamic=True)\n",
    "\n",
    "stepper = HBox((play, progress))\n",
    "stepper"
   ]
  },
  {
   "cell_type": "code",
   "execution_count": null,
   "metadata": {},
   "outputs": [],
   "source": [
    "scene = Scene((threshold, ))\n",
    "\n",
    "scene"
   ]
  },
  {
   "cell_type": "code",
   "execution_count": null,
   "metadata": {},
   "outputs": [],
   "source": [
    "scene.background_color = 'aliceblue'"
   ]
  }
 ],
 "metadata": {
  "kernelspec": {
   "display_name": "Python 3",
   "language": "python",
   "name": "python3"
  },
  "language_info": {
   "codemirror_mode": {
    "name": "ipython",
    "version": 3
   },
   "file_extension": ".py",
   "mimetype": "text/x-python",
   "name": "python",
   "nbconvert_exporter": "python",
   "pygments_lexer": "ipython3",
   "version": "3.7.3"
  }
 },
 "nbformat": 4,
 "nbformat_minor": 2
}
