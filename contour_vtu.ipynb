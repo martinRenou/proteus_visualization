{
 "cells": [
  {
   "cell_type": "markdown",
   "metadata": {},
   "source": [
    "### Loading contour meshes from `.vtu` files"
   ]
  },
  {
   "cell_type": "code",
   "execution_count": null,
   "metadata": {},
   "outputs": [],
   "source": [
    "from ipydatawidgets import NDArrayWidget\n",
    "\n",
    "from ipywidgets import Play, IntProgress, link, HBox\n",
    "\n",
    "from ipygany import Scene, PolyMesh, Alpha, Water, UnderWater"
   ]
  },
  {
   "cell_type": "code",
   "execution_count": null,
   "metadata": {},
   "outputs": [],
   "source": [
    "boundaries_mesh = PolyMesh.from_vtk('proteus_vtu/proteus_boundaries_1.vtu')"
   ]
  },
  {
   "cell_type": "code",
   "execution_count": null,
   "metadata": {},
   "outputs": [],
   "source": [
    "water_mesh = PolyMesh.from_vtk('proteus_vtu/proteus_contour_1.vtu')\n",
    "\n",
    "def update_step(change):\n",
    "    step = change['new']\n",
    "    water_mesh.reload('proteus_vtu/proteus_contour_{}.vtu'.format(step), reload_vertices=True, reload_triangles=True, reload_data=False)\n",
    "\n",
    "play = Play(description='Step:', min=0, max=76, value=0, interval=50)\n",
    "play.observe(update_step, names=['value'])\n",
    "\n",
    "progress = IntProgress(value=0, step=1, min=0, max=76)\n",
    "link((progress, 'value'), (play, 'value'))\n",
    "\n",
    "wave = Water(water_mesh, under_water_blocks=(UnderWater(boundaries_mesh), ))\n",
    "\n",
    "stepper = HBox((play, progress))\n",
    "stepper"
   ]
  },
  {
   "cell_type": "code",
   "execution_count": null,
   "metadata": {},
   "outputs": [],
   "source": [
    "scene = Scene((wave, ))\n",
    "\n",
    "scene"
   ]
  },
  {
   "cell_type": "code",
   "execution_count": null,
   "metadata": {},
   "outputs": [],
   "source": []
  }
 ],
 "metadata": {
  "kernelspec": {
   "display_name": "Python 3",
   "language": "python",
   "name": "python3"
  },
  "language_info": {
   "codemirror_mode": {
    "name": "ipython",
    "version": 3
   },
   "file_extension": ".py",
   "mimetype": "text/x-python",
   "name": "python",
   "nbconvert_exporter": "python",
   "pygments_lexer": "ipython3",
   "version": "3.8.3"
  }
 },
 "nbformat": 4,
 "nbformat_minor": 2
}
