{
 "cells": [
  {
   "cell_type": "markdown",
   "metadata": {},
   "source": [
    "# Loading contour meshes from `.vtu` files"
   ]
  },
  {
   "cell_type": "code",
   "execution_count": null,
   "metadata": {},
   "outputs": [],
   "source": [
    "from ipydatawidgets import NDArrayWidget\n",
    "\n",
    "from ipywidgets import Play, IntProgress, link, HBox\n",
    "\n",
    "from pythreejs import BoxGeometry, Mesh, MeshStandardMaterial, Side\n",
    "\n",
    "from ipygany import Scene, PolyMesh, Alpha"
   ]
  },
  {
   "cell_type": "code",
   "execution_count": null,
   "metadata": {},
   "outputs": [],
   "source": [
    "box = Mesh(\n",
    "    geometry=BoxGeometry(width=0.16, height=0.4, depth=0.16), \n",
    "    material=MeshStandardMaterial(color='lightgreen'),\n",
    "    position=(2.47, 0.5, 0.08),\n",
    ")\n",
    "\n",
    "boundaries = Mesh(\n",
    "    geometry=BoxGeometry(width=3.22, height=1., depth=1.), \n",
    "    material=MeshStandardMaterial(color='lightgray', side=Side.BackSide),\n",
    "    position=(1.61, 0.5, 0.5),\n",
    ")"
   ]
  },
  {
   "cell_type": "code",
   "execution_count": null,
   "metadata": {},
   "outputs": [],
   "source": [
    "mesh = PolyMesh.from_vtk('proteus_vtu/proteus_contour_1.vtu', environment_meshes=[box, boundaries])\n",
    "\n",
    "def update_step(change):\n",
    "    step = change['new']\n",
    "    mesh.reload('proteus_vtu/proteus_contour_{}.vtu'.format(step), reload_vertices=True, reload_triangles=True, reload_data=False)\n",
    "\n",
    "play = Play(description='Step:', min=0, max=76, value=0, interval=50)\n",
    "play.observe(update_step, names=['value'])\n",
    "\n",
    "progress = IntProgress(value=0, step=1, min=0, max=76)\n",
    "link((progress, 'value'), (play, 'value'))\n",
    "\n",
    "wave = Alpha(mesh)\n",
    "\n",
    "stepper = HBox((play, progress))\n",
    "stepper"
   ]
  },
  {
   "cell_type": "code",
   "execution_count": null,
   "metadata": {},
   "outputs": [],
   "source": [
    "scene = Scene((wave, ))\n",
    "\n",
    "scene"
   ]
  }
 ],
 "metadata": {
  "kernelspec": {
   "display_name": "Python 3",
   "language": "python",
   "name": "python3"
  },
  "language_info": {
   "codemirror_mode": {
    "name": "ipython",
    "version": 3
   },
   "file_extension": ".py",
   "mimetype": "text/x-python",
   "name": "python",
   "nbconvert_exporter": "python",
   "pygments_lexer": "ipython3",
   "version": "3.7.3"
  }
 },
 "nbformat": 4,
 "nbformat_minor": 2
}
