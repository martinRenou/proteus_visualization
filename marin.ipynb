{
 "cells": [
  {
   "cell_type": "markdown",
   "metadata": {},
   "source": [
    "# Load `hdf5` file directly using memory mapping"
   ]
  },
  {
   "cell_type": "code",
   "execution_count": null,
   "metadata": {
    "scrolled": true
   },
   "outputs": [],
   "source": [
    "import h5py\n",
    "\n",
    "import mmap\n",
    "\n",
    "import numpy as np\n",
    "\n",
    "def metadata_to_array(metadata, mapping):\n",
    "    \"\"\"Turn array metadata into a NumPy array.\"\"\"\n",
    "    shape = metadata['shape']\n",
    "    dtype = metadata['dtype']\n",
    "    offset = metadata['offset']\n",
    "    length = np.prod(shape)\n",
    "\n",
    "    return np.frombuffer(mapping, dtype=dtype, count=length, offset=offset).reshape(shape)\n",
    "\n",
    "def extract_arrays_metadata(hdf5_path, print_metadata=False):\n",
    "    \"\"\"Extract arrays metadata from an HDF5 file.\"\"\"\n",
    "    arrays_metadata = {}\n",
    "\n",
    "    with h5py.File(hdf5_path, 'r') as fobj:\n",
    "        def dump(name, item):\n",
    "            if isinstance(item, h5py.Dataset):\n",
    "                if print_metadata:\n",
    "                    print(name, item.shape, item.dtype)\n",
    "\n",
    "                arrays_metadata[name] = dict(\n",
    "                    offset=item.id.get_offset(), \n",
    "                    shape=item.shape, \n",
    "                    dtype=item.dtype,\n",
    "                    filename=hdf5_path\n",
    "                )\n",
    "\n",
    "        fobj.visititems(dump)\n",
    "\n",
    "    return arrays_metadata\n",
    "\n",
    "def extract_array(arrays_metadata, array_name):\n",
    "    \"\"\"Extract NumPy array from an HDF5 file, given the arrays metadata and the array name you want to extract.\"\"\"\n",
    "    metadata = arrays_metadata[array_name]\n",
    "    \n",
    "    with open(metadata['filename'], 'rb') as fobj:\n",
    "        mapping = mmap.mmap(fobj.fileno(), 0, access=mmap.ACCESS_READ)\n",
    "\n",
    "        return metadata_to_array(metadata, mapping)"
   ]
  },
  {
   "cell_type": "code",
   "execution_count": null,
   "metadata": {},
   "outputs": [],
   "source": [
    "arrays_metadata = extract_arrays_metadata('marin0.h5')\n",
    "\n",
    "vertices = extract_array(arrays_metadata, 'nodesSpatial_Domain0')\n",
    "tetrahedron_indices = extract_array(arrays_metadata, 'elementsSpatial_Domain0')\n",
    "phi = extract_array(arrays_metadata, 'phi0')"
   ]
  },
  {
   "cell_type": "code",
   "execution_count": null,
   "metadata": {},
   "outputs": [],
   "source": [
    "from pythreejs import BoxGeometry, Mesh, MeshStandardMaterial, Side\n",
    "\n",
    "from ipygany import Scene, Data, Component, TetraMesh, Alpha, IsoSurface, Threshold, IsoColor"
   ]
  },
  {
   "cell_type": "code",
   "execution_count": null,
   "metadata": {},
   "outputs": [],
   "source": [
    "box = Mesh(\n",
    "    geometry=BoxGeometry(width=0.159, height=0.399, depth=0.159), \n",
    "    material=MeshStandardMaterial(color='lightgreen'),\n",
    "    position=(2.47, 0.5, 0.08),\n",
    ")\n",
    "\n",
    "boundaries = Mesh(\n",
    "    geometry=BoxGeometry(width=3.202, height=1.01, depth=1.01), \n",
    "    material=MeshStandardMaterial(color='lightgray', side=Side.BackSide),\n",
    "    position=(1.61, 0.5, 0.5),\n",
    ")"
   ]
  },
  {
   "cell_type": "code",
   "execution_count": null,
   "metadata": {
    "scrolled": false
   },
   "outputs": [],
   "source": [
    "phi_component = Component(name='Phi', array=phi.flatten())\n",
    "\n",
    "mesh = TetraMesh(\n",
    "    vertices=vertices,\n",
    "    tetrahedron_indices=tetrahedron_indices,\n",
    "    data=[Data(name='Phi', components=[phi_component])],\n",
    "    environment_meshes=[box, boundaries]\n",
    ")\n",
    "\n",
    "surface = Threshold(mesh, input='Phi', min=-100, max=0, dynamic=True)\n",
    "# surface = IsoSurface(mesh, input='Phi', value=0., dynamic=True)\n",
    "\n",
    "water = Alpha(surface, input=0.7)\n",
    "\n",
    "scene = Scene((water, ))\n",
    "scene.background_color = 'aliceblue'\n",
    "\n",
    "scene"
   ]
  },
  {
   "cell_type": "code",
   "execution_count": null,
   "metadata": {},
   "outputs": [],
   "source": [
    "phi_component.array = extract_array(arrays_metadata, 'phi62').flatten()"
   ]
  },
  {
   "cell_type": "code",
   "execution_count": null,
   "metadata": {},
   "outputs": [],
   "source": [
    "from time import sleep\n",
    "\n",
    "for i in range(77):\n",
    "    phi_component.array = extract_array(arrays_metadata, 'phi{}'.format(i)).flatten()\n",
    "\n",
    "    sleep(0.05)"
   ]
  }
 ],
 "metadata": {
  "kernelspec": {
   "display_name": "Python 3",
   "language": "python",
   "name": "python3"
  },
  "language_info": {
   "codemirror_mode": {
    "name": "ipython",
    "version": 3
   },
   "file_extension": ".py",
   "mimetype": "text/x-python",
   "name": "python",
   "nbconvert_exporter": "python",
   "pygments_lexer": "ipython3",
   "version": "3.7.3"
  }
 },
 "nbformat": 4,
 "nbformat_minor": 2
}
